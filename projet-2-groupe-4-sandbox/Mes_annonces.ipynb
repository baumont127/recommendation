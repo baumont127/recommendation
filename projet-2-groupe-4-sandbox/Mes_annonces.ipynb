{
 "cells": [
  {
   "cell_type": "markdown",
   "metadata": {},
   "source": [
    "# Moteur de recherche d'offre d'emplois"
   ]
  },
  {
   "cell_type": "code",
   "execution_count": 1,
   "metadata": {},
   "outputs": [
    {
     "name": "stdout",
     "output_type": "stream",
     "text": [
      "boucher\n",
      "Making request with params {'motsCles': 'boucher', 'region': 84, 'sort': 1}\n",
      "Token has not been requested yet. Requesting token\n",
      "Now requesting token\n",
      "Pole Emploi API request : DONE\n",
      "Pole emploi Job aggregation : Done\n"
     ]
    }
   ],
   "source": [
    "from modules.api_pe import request_api_pe\n",
    "from modules.job_info_pe import job_info_pe\n",
    "\n",
    "key_words = input()\n",
    "job_from_pe = request_api_pe(key_words)\n",
    "job_info = job_info_pe(job_from_pe)"
   ]
  },
  {
   "cell_type": "markdown",
   "metadata": {},
   "source": [
    "### Affichage de l'offre:"
   ]
  },
  {
   "cell_type": "code",
   "execution_count": 2,
   "metadata": {},
   "outputs": [
    {
     "name": "stdout",
     "output_type": "stream",
     "text": [
      "\n",
      "Boucher / Bouchère (H/F)\n",
      "------------------------------------------------\n",
      "Entreprise: ESPACE BOUCHERIE\n",
      "\n",
      "Lieu de travail: belley\n",
      "Lien annonce: https://candidat.pole-emploi.fr/offres/recherche/detail/128FDWY\n",
      "Description de l'offre: \n",
      "\n",
      "Nous recherchons un Boucher/Bouchère.\n",
      "\n",
      "Vous avez déjà de l'expérience dans la boucherie traditionnelle. Vous maitrisez les techniques de découpes de la viande, tout en respectant les techniques de travail, les normes d'hygiène et la de traçabilité des produits.\n",
      " \n",
      "Vous travaillerez du mardi au samedi de 8H à 12H et de 14H30 à 19H.\n",
      "\n",
      "\n"
     ]
    }
   ],
   "source": [
    "print(f'\\n{job_info[\"intitule\"][0]}')\n",
    "print('------------------------------------------------')\n",
    "print(f'Entreprise: {job_info[\"nom_entreprise\"][0]}\\n')\n",
    "print(f'Lieu de travail: {job_info[\"lieu\"][0]}')\n",
    "print(f'Lien annonce: {job_info[\"lien\"][0]}')\n",
    "print(f\"Description de l'offre: \\n\\n{job_info['description'][0]}\")"
   ]
  },
  {
   "cell_type": "markdown",
   "metadata": {},
   "source": [
    "### Champs renvoyés par l' API Pole Emploi :"
   ]
  },
  {
   "cell_type": "code",
   "execution_count": 86,
   "metadata": {},
   "outputs": [
    {
     "name": "stdout",
     "output_type": "stream",
     "text": [
      "dict_keys(['id', 'intitule', 'description', 'dateCreation', 'dateActualisation', 'lieuTravail', 'romeCode', 'romeLibelle', 'appellationlibelle', 'entreprise', 'typeContrat', 'typeContratLibelle', 'natureContrat', 'experienceExige', 'experienceLibelle', 'competences', 'salaire', 'dureeTravailLibelle', 'dureeTravailLibelleConverti', 'alternance', 'contact', 'nombrePostes', 'accessibleTH', 'deplacementCode', 'deplacementLibelle', 'qualificationCode', 'qualificationLibelle', 'secteurActivite', 'secteurActiviteLibelle', 'qualitesProfessionnelles', 'origineOffre', 'offresManqueCandidats'])\n"
     ]
    }
   ],
   "source": [
    "print(job_from_pe['resultats'][0].keys())"
   ]
  },
  {
   "cell_type": "markdown",
   "metadata": {},
   "source": [
    "### Champs sélectionnés pour analyser les offres:"
   ]
  },
  {
   "cell_type": "code",
   "execution_count": 87,
   "metadata": {},
   "outputs": [
    {
     "name": "stdout",
     "output_type": "stream",
     "text": [
      "dict_keys(['intitule', 'nom_entreprise', 'lieu', 'date', 'lien', 'description'])\n"
     ]
    }
   ],
   "source": [
    "print(job_info.keys())"
   ]
  },
  {
   "cell_type": "markdown",
   "metadata": {},
   "source": [
    "### Extraction des termes principaux de l'annonce -  API Azure Extract_key_phrase"
   ]
  },
  {
   "cell_type": "code",
   "execution_count": null,
   "metadata": {},
   "outputs": [],
   "source": [
    "from modules import api_azure\n",
    "mots_clefs = api_azure.extract_main_terms_sdk(job_info['description'][0])"
   ]
  },
  {
   "cell_type": "markdown",
   "metadata": {},
   "source": [
    "### Mots clés de l'annonce:"
   ]
  },
  {
   "cell_type": "code",
   "execution_count": 5,
   "metadata": {},
   "outputs": [
    {
     "name": "stdout",
     "output_type": "stream",
     "text": [
      "[ExtractKeyPhrasesResult(id=0, key_phrases=['requêtes informatiques', 'Data Analyst H/F', 'différentes équipes', 'équipe Support Applicatif', 'Data Management', '14 février', 'D&T', 'période', 'données', 'contrôles', 'défauts', 'présentation', 'réalisation', 'base iQera', 'adéquation', 'complétude', 'étroite collaboration', 'expérience', 'excellente maitrise', 'Machine Learning', 'capacités', 'synthèse', 'excellente capacité', 'problématiques', 'manière', 'cœur', 'pleine croissance', 'développement', 'Cadre  Salaire', 'Épargne salariale', 'Titre-restaurant  Horaires', 'journée', 'extractions ponctuelles', 'Analystes Fonctionnels', 'bases de', 'base clients', 'Paris', 'Dept.', 'missions', 'tribu', 'soutien', 'transverse', 'Organisation', 'Qualité', 'Flux', 'production', 'apprentissage', 'outils', 'gestion', 'charge', 'KPI', 'alertes', 'exhaustivité', 'conception', 'besoins', 'automatisation', 'croisements', 'écarts', 'recommandations', 'demandes', 'fichiers', 'partenaires', 'internes', 'ateliers', 'performance', ExtractKeyPhrasesResult(id=1, key_phrases=['Natural Language Processing', 'directions métiers', 'expérience professionnelle', 'Data Scientist', 'Hauts de', '11 février', 'dataLab entité', 'Direction Technique', 'Intelligence Artificielle', 'Le dataLab', 'data science', 'Machine Learning', 'Computer Vision', 'grande école', 'ingénieur', 'développement', 'langage Python', 'excellent relationnel', 'Cadre  Salaire', 'Épargne salariale', 'Distance  Horaires', 'journée', 'H/F NLP', 'début', 'Seine', 'offre', 'mission', 'solutions', 'groupe', 'chaine', 'valeur', 'expertise', 'technologies', 'Speech', 'Text', 'travaux', 'demande', 'entreprise', 'projet', 'domaine', 'mise', 'production', 'utilisation', 'service', 'client', 'Centrale', 'Supelec', 'Mines', 'Supaero', 'INSA', 'minimum', '3 ans', 'algorithmes', 'NLTK', 'XGBOOST', 'autonomie', 'capacité', 'force', 'proposition', 'Type', 'emploi', 'Temps', 'CDIStatut', 'Avantages', 'Participation', 'Transport', 'RTT', 'Titre-restaurant', 'Travail', 'Date'], warnings=[], sta]\n"
     ]
    }
   ],
   "source": [
    "print(mots_clefs)"
   ]
  }
 ],
 "metadata": {
  "interpreter": {
   "hash": "062a02156f7e75f152d694824bb30d2858fad54292dce71dae43ce2ad205c227"
  },
  "kernelspec": {
   "display_name": "Python 3 (ipykernel)",
   "language": "python",
   "name": "python3"
  },
  "language_info": {
   "codemirror_mode": {
    "name": "ipython",
    "version": 3
   },
   "file_extension": ".py",
   "mimetype": "text/x-python",
   "name": "python",
   "nbconvert_exporter": "python",
   "pygments_lexer": "ipython3",
   "version": "3.8.10"
  }
 },
 "nbformat": 4,
 "nbformat_minor": 2
}
